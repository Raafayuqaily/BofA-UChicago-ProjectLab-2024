{
 "cells": [
  {
   "cell_type": "code",
   "execution_count": 1,
   "metadata": {},
   "outputs": [],
   "source": [
    "import pandas as pd\n",
    "import sqlite3"
   ]
  },
  {
   "cell_type": "markdown",
   "metadata": {},
   "source": [
    "# 1. Create Database and store data"
   ]
  },
  {
   "cell_type": "code",
   "execution_count": null,
   "metadata": {},
   "outputs": [
    {
     "name": "stdout",
     "output_type": "stream",
     "text": [
      "Data from t_zacks_fc.parquet successfully imported into table 't_zacks_fc'.\n",
      "Data from t_zacks_fr.parquet successfully imported into table 't_zacks_fr'.\n",
      "Data from t_zacks_mktv.parquet successfully imported into table 't_zacks_mktv'.\n",
      "Data from t_zacks_shrs.parquet successfully imported into table 't_zacks_shrs'.\n"
     ]
    }
   ],
   "source": [
    "# Create SQLite database connection (local file storage)\n",
    "conn = sqlite3.connect('zack_database.db')\n",
    "\n",
    "# Function: Save parquet file to a specified table\n",
    "def import_parquet_to_table(parquet_file_path, table_name):\n",
    "    df = pd.read_parquet(parquet_file_path)  # Load parquet file into DataFrame\n",
    "    df.to_sql(table_name, conn, if_exists='replace', index=False)  # Write DataFrame to the specified table\n",
    "    print(f\"Data from {parquet_file_path} successfully imported into table '{table_name}'.\")\n",
    "\n",
    "# Example: Store multiple parquet files into different tables\n",
    "parquet_files = {\n",
    "    \"t_zacks_fc.parquet\": \"t_zacks_fc\",\n",
    "    \"t_zacks_fr.parquet\": \"t_zacks_fr\",\n",
    "    \"t_zacks_mktv.parquet\": \"t_zacks_mktv\",\n",
    "    \"t_zacks_shrs.parquet\": \"t_zacks_shrs\"\n",
    "}\n",
    "\n",
    "# Import each parquet file into the corresponding table\n",
    "for file_path, table_name in parquet_files.items():\n",
    "    import_parquet_to_table(file_path, table_name)"
   ]
  },
  {
   "cell_type": "markdown",
   "metadata": {},
   "source": [
    "# 2. Extracting Data"
   ]
  },
  {
   "cell_type": "code",
   "execution_count": 3,
   "metadata": {},
   "outputs": [
    {
     "data": {
      "text/html": [
       "<div>\n",
       "<style scoped>\n",
       "    .dataframe tbody tr th:only-of-type {\n",
       "        vertical-align: middle;\n",
       "    }\n",
       "\n",
       "    .dataframe tbody tr th {\n",
       "        vertical-align: top;\n",
       "    }\n",
       "\n",
       "    .dataframe thead th {\n",
       "        text-align: right;\n",
       "    }\n",
       "</style>\n",
       "<table border=\"1\" class=\"dataframe\">\n",
       "  <thead>\n",
       "    <tr style=\"text-align: right;\">\n",
       "      <th></th>\n",
       "      <th>ticker</th>\n",
       "      <th>comp_name</th>\n",
       "      <th>per_end_date</th>\n",
       "      <th>eps_diluted_net_basic</th>\n",
       "    </tr>\n",
       "  </thead>\n",
       "  <tbody>\n",
       "    <tr>\n",
       "      <th>0</th>\n",
       "      <td>AAPL</td>\n",
       "      <td>Apple</td>\n",
       "      <td>2024-09-30</td>\n",
       "      <td>0.9700</td>\n",
       "    </tr>\n",
       "    <tr>\n",
       "      <th>1</th>\n",
       "      <td>AAPL</td>\n",
       "      <td>Apple</td>\n",
       "      <td>2024-09-30</td>\n",
       "      <td>6.0800</td>\n",
       "    </tr>\n",
       "    <tr>\n",
       "      <th>2</th>\n",
       "      <td>AAPL</td>\n",
       "      <td>Apple</td>\n",
       "      <td>2024-06-30</td>\n",
       "      <td>1.4000</td>\n",
       "    </tr>\n",
       "    <tr>\n",
       "      <th>3</th>\n",
       "      <td>AAPL</td>\n",
       "      <td>Apple</td>\n",
       "      <td>2024-03-31</td>\n",
       "      <td>1.5300</td>\n",
       "    </tr>\n",
       "    <tr>\n",
       "      <th>4</th>\n",
       "      <td>AAPL</td>\n",
       "      <td>Apple</td>\n",
       "      <td>2023-12-31</td>\n",
       "      <td>2.1800</td>\n",
       "    </tr>\n",
       "    <tr>\n",
       "      <th>...</th>\n",
       "      <td>...</td>\n",
       "      <td>...</td>\n",
       "      <td>...</td>\n",
       "      <td>...</td>\n",
       "    </tr>\n",
       "    <tr>\n",
       "      <th>89</th>\n",
       "      <td>AAPL</td>\n",
       "      <td>Apple</td>\n",
       "      <td>2006-12-31</td>\n",
       "      <td>0.0407</td>\n",
       "    </tr>\n",
       "    <tr>\n",
       "      <th>90</th>\n",
       "      <td>AAPL</td>\n",
       "      <td>Apple</td>\n",
       "      <td>2006-09-30</td>\n",
       "      <td>0.0218</td>\n",
       "    </tr>\n",
       "    <tr>\n",
       "      <th>91</th>\n",
       "      <td>AAPL</td>\n",
       "      <td>Apple</td>\n",
       "      <td>2006-09-30</td>\n",
       "      <td>0.0811</td>\n",
       "    </tr>\n",
       "    <tr>\n",
       "      <th>92</th>\n",
       "      <td>AAPL</td>\n",
       "      <td>Apple</td>\n",
       "      <td>2006-06-30</td>\n",
       "      <td>0.0193</td>\n",
       "    </tr>\n",
       "    <tr>\n",
       "      <th>93</th>\n",
       "      <td>AAPL</td>\n",
       "      <td>Apple</td>\n",
       "      <td>2006-03-31</td>\n",
       "      <td>0.0168</td>\n",
       "    </tr>\n",
       "  </tbody>\n",
       "</table>\n",
       "<p>94 rows × 4 columns</p>\n",
       "</div>"
      ],
      "text/plain": [
       "   ticker comp_name per_end_date  eps_diluted_net_basic\n",
       "0    AAPL     Apple   2024-09-30                 0.9700\n",
       "1    AAPL     Apple   2024-09-30                 6.0800\n",
       "2    AAPL     Apple   2024-06-30                 1.4000\n",
       "3    AAPL     Apple   2024-03-31                 1.5300\n",
       "4    AAPL     Apple   2023-12-31                 2.1800\n",
       "..    ...       ...          ...                    ...\n",
       "89   AAPL     Apple   2006-12-31                 0.0407\n",
       "90   AAPL     Apple   2006-09-30                 0.0218\n",
       "91   AAPL     Apple   2006-09-30                 0.0811\n",
       "92   AAPL     Apple   2006-06-30                 0.0193\n",
       "93   AAPL     Apple   2006-03-31                 0.0168\n",
       "\n",
       "[94 rows x 4 columns]"
      ]
     },
     "execution_count": 3,
     "metadata": {},
     "output_type": "execute_result"
    }
   ],
   "source": [
    "# Example query: Extract data from different tables\n",
    "# Extract data from 'zacks_data' table\n",
    "query_zacks = \"\"\"\n",
    "SELECT ticker, comp_name, per_end_date, eps_diluted_net_basic\n",
    "FROM t_zacks_fc\n",
    "WHERE ticker = 'AAPL'\n",
    "ORDER BY per_end_date DESC;\n",
    "\"\"\"\n",
    "zacks_df = pd.read_sql_query(query_zacks, conn)\n",
    "\n",
    "zacks_df"
   ]
  },
  {
   "cell_type": "code",
   "execution_count": 4,
   "metadata": {},
   "outputs": [],
   "source": [
    "# Close database connection\n",
    "conn.close()"
   ]
  },
  {
   "cell_type": "code",
   "execution_count": null,
   "metadata": {},
   "outputs": [],
   "source": []
  }
 ],
 "metadata": {
  "kernelspec": {
   "display_name": "base",
   "language": "python",
   "name": "python3"
  },
  "language_info": {
   "codemirror_mode": {
    "name": "ipython",
    "version": 3
   },
   "file_extension": ".py",
   "mimetype": "text/x-python",
   "name": "python",
   "nbconvert_exporter": "python",
   "pygments_lexer": "ipython3",
   "version": "3.9.17"
  }
 },
 "nbformat": 4,
 "nbformat_minor": 2
}
