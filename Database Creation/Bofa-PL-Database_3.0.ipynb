{
 "cells": [
  {
   "cell_type": "code",
   "execution_count": 12,
   "metadata": {},
   "outputs": [],
   "source": [
    "import pandas as pd\n",
    "import sqlite3"
   ]
  },
  {
   "cell_type": "markdown",
   "metadata": {},
   "source": [
    "# 1. Create Database and store data"
   ]
  },
  {
   "cell_type": "code",
   "execution_count": 72,
   "metadata": {},
   "outputs": [
    {
     "name": "stdout",
     "output_type": "stream",
     "text": [
      "Data from t_zacks_fc.parquet successfully imported into table 't_zacks_fc'.\n",
      "Data from t_zacks_fr.parquet successfully imported into table 't_zacks_fr'.\n",
      "Data from t_zacks_mktv.parquet successfully imported into table 't_zacks_mktv'.\n",
      "Data from t_zacks_shrs.parquet successfully imported into table 't_zacks_shrs'.\n",
      "Data from t_zacks_sectors.csv successfully imported into table 't_zacks_sectors'.\n"
     ]
    }
   ],
   "source": [
    "# Create SQLite database connection (local file storage)\n",
    "conn = sqlite3.connect('zack_database.db')\n",
    "\n",
    "# Function: Save parquet file to a specified table\n",
    "def import_parquet_to_table(parquet_file_path, table_name):\n",
    "    df = pd.read_parquet(parquet_file_path)  # Load parquet file into DataFrame\n",
    "    df.to_sql(table_name, conn, if_exists='replace', index=False)  # Write DataFrame to the specified table\n",
    "    print(f\"Data from {parquet_file_path} successfully imported into table '{table_name}'.\")\n",
    "\n",
    "# Function: Save CSV file to a specified table\n",
    "def import_csv_to_table(csv_file_path, table_name):\n",
    "    df = pd.read_csv(csv_file_path)  # Load CSV file into DataFrame\n",
    "    df.to_sql(table_name, conn, if_exists='replace', index=False)  # Write DataFrame to the specified table\n",
    "    print(f\"Data from {csv_file_path} successfully imported into table '{table_name}'.\")\n",
    "\n",
    "# Example: Store multiple parquet files into different tables\n",
    "parquet_files = {\n",
    "    \"t_zacks_fc.parquet\": \"t_zacks_fc\",\n",
    "    \"t_zacks_fr.parquet\": \"t_zacks_fr\",\n",
    "    \"t_zacks_mktv.parquet\": \"t_zacks_mktv\",\n",
    "    \"t_zacks_shrs.parquet\": \"t_zacks_shrs\"\n",
    "}\n",
    "\n",
    "# Import each parquet file into the corresponding table\n",
    "for file_path, table_name in parquet_files.items():\n",
    "    import_parquet_to_table(file_path, table_name)\n",
    "\n",
    "# Import the CSV file into the corresponding table\n",
    "import_csv_to_table(\"t_zacks_sectors.csv\", \"t_zacks_sectors\")"
   ]
  },
  {
   "cell_type": "markdown",
   "metadata": {},
   "source": [
    "# 2. Extracting Data"
   ]
  },
  {
   "cell_type": "code",
   "execution_count": 74,
   "metadata": {},
   "outputs": [
    {
     "data": {
      "text/html": [
       "<div>\n",
       "<style scoped>\n",
       "    .dataframe tbody tr th:only-of-type {\n",
       "        vertical-align: middle;\n",
       "    }\n",
       "\n",
       "    .dataframe tbody tr th {\n",
       "        vertical-align: top;\n",
       "    }\n",
       "\n",
       "    .dataframe thead th {\n",
       "        text-align: right;\n",
       "    }\n",
       "</style>\n",
       "<table border=\"1\" class=\"dataframe\">\n",
       "  <thead>\n",
       "    <tr style=\"text-align: right;\">\n",
       "      <th></th>\n",
       "      <th>avg_shares_outstanding</th>\n",
       "    </tr>\n",
       "  </thead>\n",
       "  <tbody>\n",
       "    <tr>\n",
       "      <th>0</th>\n",
       "      <td>595.025608</td>\n",
       "    </tr>\n",
       "  </tbody>\n",
       "</table>\n",
       "</div>"
      ],
      "text/plain": [
       "   avg_shares_outstanding\n",
       "0              595.025608"
      ]
     },
     "execution_count": 74,
     "metadata": {},
     "output_type": "execute_result"
    }
   ],
   "source": [
    "# Example query: Extract data from 'zacks_data' table\n",
    "query_zacks = \"\"\"\n",
    "SELECT \n",
    "    AVG(shrs.shares_out) AS avg_shares_outstanding\n",
    "FROM \n",
    "    t_zacks_shrs AS shrs\n",
    "JOIN \n",
    "    t_zacks_fc AS fc \n",
    "ON \n",
    "    shrs.ticker = fc.ticker \n",
    "    AND shrs.per_end_date = fc.per_end_date \n",
    "    AND shrs.per_type = fc.per_type\n",
    "JOIN \n",
    "    t_zacks_sectors AS sectors\n",
    "ON \n",
    "    fc.zacks_sector_code = sectors.zacks_sector_code\n",
    "WHERE \n",
    "    sectors.sector = 'Computer & Technology'\n",
    "    AND strftime('%Y', fc.per_end_date) = '2017';\n",
    "\n",
    "\n",
    "\"\"\"\n",
    "\n",
    "# Execute the query\n",
    "zacks_df = pd.read_sql_query(query_zacks, conn)\n",
    "\n",
    "# Display the result\n",
    "zacks_df\n"
   ]
  },
  {
   "cell_type": "code",
   "execution_count": 4,
   "metadata": {},
   "outputs": [],
   "source": [
    "# Close database connection\n",
    "conn.close()"
   ]
  },
  {
   "cell_type": "code",
   "execution_count": null,
   "metadata": {},
   "outputs": [],
   "source": []
  }
 ],
 "metadata": {
  "kernelspec": {
   "display_name": "Python 3 (ipykernel)",
   "language": "python",
   "name": "python3"
  },
  "language_info": {
   "codemirror_mode": {
    "name": "ipython",
    "version": 3
   },
   "file_extension": ".py",
   "mimetype": "text/x-python",
   "name": "python",
   "nbconvert_exporter": "python",
   "pygments_lexer": "ipython3",
   "version": "3.11.7"
  }
 },
 "nbformat": 4,
 "nbformat_minor": 4
}
