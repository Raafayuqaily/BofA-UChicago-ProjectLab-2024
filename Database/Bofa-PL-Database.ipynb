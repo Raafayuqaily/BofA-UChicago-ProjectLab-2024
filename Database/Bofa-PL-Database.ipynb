{
 "cells": [
  {
   "cell_type": "code",
   "execution_count": 1,
   "metadata": {},
   "outputs": [],
   "source": [
    "import pandas as pd\n",
    "import sqlite3"
   ]
  },
  {
   "cell_type": "markdown",
   "metadata": {},
   "source": [
    "# 1. Create Database and store data"
   ]
  },
  {
   "cell_type": "code",
   "execution_count": 2,
   "metadata": {},
   "outputs": [
    {
     "name": "stdout",
     "output_type": "stream",
     "text": [
      "Data from t_zacks_fc.csv successfully imported into table 't_zacks_fc'.\n",
      "Data from t_zacks_fr.csv successfully imported into table 't_zacks_fr'.\n",
      "Data from t_zacks_mktv.csv successfully imported into table 't_zacks_mktv'.\n",
      "Data from t_zacks_shrs.csv successfully imported into table 't_zacks_shrs'.\n"
     ]
    }
   ],
   "source": [
    "# Create SQLite database connection (local file storage)\n",
    "conn = sqlite3.connect('zack_database.db')\n",
    "\n",
    "# Function: Save CSV file to a specified table\n",
    "def import_csv_to_table(csv_file_path, table_name):\n",
    "    df = pd.read_csv(csv_file_path)  # Load CSV file into DataFrame\n",
    "    df.to_sql(table_name, conn, if_exists='replace', index=False)  # Write DataFrame to the specified table\n",
    "    print(f\"Data from {csv_file_path} successfully imported into table '{table_name}'.\")\n",
    "\n",
    "# Example: Store multiple CSV files into different tables\n",
    "csv_files = {\n",
    "    \"t_zacks_fc.csv\": \"t_zacks_fc\",\n",
    "    \"t_zacks_fr.csv\": \"t_zacks_fr\",\n",
    "    \"t_zacks_mktv.csv\": \"t_zacks_mktv\",\n",
    "    \"t_zacks_shrs.csv\": \"t_zacks_shrs\"\n",
    "}\n",
    "\n",
    "# Import each CSV file into the corresponding table\n",
    "for file_path, table_name in csv_files.items():\n",
    "    import_csv_to_table(file_path, table_name)"
   ]
  },
  {
   "cell_type": "markdown",
   "metadata": {},
   "source": [
    "# 2. Extracting Data"
   ]
  },
  {
   "cell_type": "code",
   "execution_count": 4,
   "metadata": {},
   "outputs": [
    {
     "data": {
      "text/html": [
       "<div>\n",
       "<style scoped>\n",
       "    .dataframe tbody tr th:only-of-type {\n",
       "        vertical-align: middle;\n",
       "    }\n",
       "\n",
       "    .dataframe tbody tr th {\n",
       "        vertical-align: top;\n",
       "    }\n",
       "\n",
       "    .dataframe thead th {\n",
       "        text-align: right;\n",
       "    }\n",
       "</style>\n",
       "<table border=\"1\" class=\"dataframe\">\n",
       "  <thead>\n",
       "    <tr style=\"text-align: right;\">\n",
       "      <th></th>\n",
       "      <th>ticker</th>\n",
       "      <th>comp_name</th>\n",
       "      <th>per_end_date</th>\n",
       "      <th>eps_diluted_net_basic</th>\n",
       "    </tr>\n",
       "  </thead>\n",
       "  <tbody>\n",
       "    <tr>\n",
       "      <th>0</th>\n",
       "      <td>AAPL</td>\n",
       "      <td>Apple</td>\n",
       "      <td>2024-06-30</td>\n",
       "      <td>1.40</td>\n",
       "    </tr>\n",
       "    <tr>\n",
       "      <th>1</th>\n",
       "      <td>AAPL</td>\n",
       "      <td>Apple</td>\n",
       "      <td>2024-03-31</td>\n",
       "      <td>1.53</td>\n",
       "    </tr>\n",
       "  </tbody>\n",
       "</table>\n",
       "</div>"
      ],
      "text/plain": [
       "  ticker comp_name per_end_date  eps_diluted_net_basic\n",
       "0   AAPL     Apple   2024-06-30                   1.40\n",
       "1   AAPL     Apple   2024-03-31                   1.53"
      ]
     },
     "execution_count": 4,
     "metadata": {},
     "output_type": "execute_result"
    }
   ],
   "source": [
    "# Example query: Extract data from different tables\n",
    "# Extract data from 'zacks_data' table\n",
    "query_zacks = \"\"\"\n",
    "SELECT ticker, comp_name, per_end_date, eps_diluted_net_basic\n",
    "FROM t_zacks_fc\n",
    "WHERE ticker = 'AAPL'\n",
    "ORDER BY per_end_date DESC;\n",
    "\"\"\"\n",
    "zacks_df = pd.read_sql_query(query_zacks, conn)\n",
    "\n",
    "zacks_df"
   ]
  },
  {
   "cell_type": "code",
   "execution_count": 5,
   "metadata": {},
   "outputs": [],
   "source": [
    "# Close database connection\n",
    "conn.close()"
   ]
  },
  {
   "cell_type": "code",
   "execution_count": null,
   "metadata": {},
   "outputs": [],
   "source": []
  }
 ],
 "metadata": {
  "kernelspec": {
   "display_name": "base",
   "language": "python",
   "name": "python3"
  },
  "language_info": {
   "codemirror_mode": {
    "name": "ipython",
    "version": 3
   },
   "file_extension": ".py",
   "mimetype": "text/x-python",
   "name": "python",
   "nbconvert_exporter": "python",
   "pygments_lexer": "ipython3",
   "version": "3.9.17"
  }
 },
 "nbformat": 4,
 "nbformat_minor": 2
}
